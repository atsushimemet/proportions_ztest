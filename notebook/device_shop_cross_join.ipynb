{
 "cells": [
  {
   "cell_type": "code",
   "execution_count": 1,
   "id": "5b57e108-181e-40d9-b58d-ca28d3302e16",
   "metadata": {},
   "outputs": [],
   "source": [
    "import random\n",
    "\n",
    "import pandas as pd"
   ]
  },
  {
   "cell_type": "code",
   "execution_count": 2,
   "id": "7d64050c-ff2d-46f4-a689-eaf73bc89eaf",
   "metadata": {},
   "outputs": [],
   "source": [
    "file_device_id = \"../data/input/Webメディア施策のABテスト・理論・具体例 - device.csv\"\n",
    "file_shop_id = \"../data/input/Webメディア施策のABテスト・理論・具体例 - shop.csv\""
   ]
  },
  {
   "cell_type": "code",
   "execution_count": 3,
   "id": "a5fff285-b417-4128-af02-12d000b9f36f",
   "metadata": {},
   "outputs": [],
   "source": [
    "df_device = pd.read_csv(file_device_id, header=None, names=[\"id\", \"group\"])\n",
    "df_shop = pd.read_csv(file_shop_id, header=None, names=[\"id\"])"
   ]
  },
  {
   "cell_type": "code",
   "execution_count": 4,
   "id": "4da7a469-808f-4366-a21f-7256c89a1b22",
   "metadata": {},
   "outputs": [],
   "source": [
    "df_device_rows = df_device.shape[0]\n",
    "df_shop_rows = df_shop.shape[0]"
   ]
  },
  {
   "cell_type": "code",
   "execution_count": 5,
   "id": "74e3f565-bf43-443c-816a-aa89ae5621ec",
   "metadata": {},
   "outputs": [],
   "source": [
    "# ユニークなIDか\n",
    "assert df_device[\"id\"].nunique() == df_device_rows, (\n",
    "    df_device[\"id\"].nunique(),\n",
    "    df_device_rows,\n",
    ")\n",
    "assert df_shop[\"id\"].nunique() == df_shop_rows, (df_shop[\"id\"].nunique(), df_shop_rows)"
   ]
  },
  {
   "cell_type": "code",
   "execution_count": 6,
   "id": "a4fa3e7f-5696-4622-8beb-6b4fa98aa03e",
   "metadata": {},
   "outputs": [],
   "source": [
    "df_device_shop = df_device.merge(df_shop, how=\"cross\", suffixes=(\"_device\", \"_shop\"))"
   ]
  },
  {
   "cell_type": "code",
   "execution_count": 7,
   "id": "4148b1a8-387b-4f6e-ad73-cff7888773db",
   "metadata": {},
   "outputs": [],
   "source": [
    "assert df_device_shop.shape[0] == df_device_rows * df_shop_rows"
   ]
  },
  {
   "cell_type": "code",
   "execution_count": 8,
   "id": "4a6afb2d-dded-4ed1-b066-c053715c505d",
   "metadata": {},
   "outputs": [],
   "source": [
    "l_cv_flg = []\n",
    "for i, row in df_device_shop.iterrows():\n",
    "    # A群(groupが1の値)の場合は、55%の確率でCVすると仮定する。\n",
    "    p = random.random()\n",
    "    if (row[\"group\"] == 1) & (p <= 0.55):\n",
    "        l_cv_flg.append(1)\n",
    "    elif (row[\"group\"] == 1) & (p <= 0.55):\n",
    "        l_cv_flg.append(0)\n",
    "    # B群(groupが0の値)の場合は、50%の確率でCVすると仮定する。\n",
    "    elif (row[\"group\"] == 0) & (p <= 0.50):\n",
    "        l_cv_flg.append(1)\n",
    "    else:\n",
    "        l_cv_flg.append(0)"
   ]
  },
  {
   "cell_type": "code",
   "execution_count": 9,
   "id": "e7e472d1-13db-43ea-b7f4-7f118099fd20",
   "metadata": {},
   "outputs": [],
   "source": [
    "df_device_shop[\"cv_flg\"] = l_cv_flg"
   ]
  },
  {
   "cell_type": "code",
   "execution_count": 10,
   "id": "1094d921-2908-4a2a-8496-272f2fcf490a",
   "metadata": {},
   "outputs": [
    {
     "data": {
      "text/plain": [
       "group\n",
       "0    0.5178\n",
       "1    0.5524\n",
       "dtype: float64"
      ]
     },
     "execution_count": 10,
     "metadata": {},
     "output_type": "execute_result"
    }
   ],
   "source": [
    "# A群の方がCVしやすいのか確認する\n",
    "cv_num_per_g = df_device_shop.groupby(\"group\").sum(\"cv_flg\")[\"cv_flg\"]\n",
    "device_shop_num_per_g = df_device_shop.groupby(\"group\").count()[\n",
    "    \"id_device\"\n",
    "]  # NOTE:この数値はdevice_idとid_shopの組み合わせ\n",
    "cv_num_per_g / device_shop_num_per_g  # 確かにA群の方がCVしやすい"
   ]
  },
  {
   "cell_type": "code",
   "execution_count": 12,
   "id": "b34aea5a-a5f2-49d3-9339-459f41621290",
   "metadata": {},
   "outputs": [],
   "source": [
    "df_device_shop.to_csv(\"../data/output/device_shop.csv\", index=None)"
   ]
  }
 ],
 "metadata": {
  "kernelspec": {
   "display_name": "Python 3 (ipykernel)",
   "language": "python",
   "name": "python3"
  },
  "language_info": {
   "codemirror_mode": {
    "name": "ipython",
    "version": 3
   },
   "file_extension": ".py",
   "mimetype": "text/x-python",
   "name": "python",
   "nbconvert_exporter": "python",
   "pygments_lexer": "ipython3",
   "version": "3.10.5"
  }
 },
 "nbformat": 4,
 "nbformat_minor": 5
}
