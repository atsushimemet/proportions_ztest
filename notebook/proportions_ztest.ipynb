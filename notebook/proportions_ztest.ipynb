{
 "cells": [
  {
   "cell_type": "code",
   "execution_count": 19,
   "id": "0b42bd9b-5b43-45cf-828e-1e702bba27e9",
   "metadata": {},
   "outputs": [],
   "source": [
    "import pandas as pd\n",
    "from statsmodels.stats.proportion import proportions_ztest"
   ]
  },
  {
   "cell_type": "code",
   "execution_count": 20,
   "id": "1467fbcf-233c-4043-966e-99086c919247",
   "metadata": {},
   "outputs": [],
   "source": [
    "SIGNIFICANCE_LEVEL = 0.05"
   ]
  },
  {
   "cell_type": "code",
   "execution_count": 21,
   "id": "570f8b5b-a7ba-4deb-8da5-80c8fbdc89a4",
   "metadata": {},
   "outputs": [],
   "source": [
    "df = pd.read_csv(\"../data/output/device_shop.csv\")"
   ]
  },
  {
   "cell_type": "code",
   "execution_count": 22,
   "id": "755dd80b-7538-476f-ac80-fbfb9b547a24",
   "metadata": {},
   "outputs": [
    {
     "data": {
      "text/html": [
       "<div>\n",
       "<style scoped>\n",
       "    .dataframe tbody tr th:only-of-type {\n",
       "        vertical-align: middle;\n",
       "    }\n",
       "\n",
       "    .dataframe tbody tr th {\n",
       "        vertical-align: top;\n",
       "    }\n",
       "\n",
       "    .dataframe thead th {\n",
       "        text-align: right;\n",
       "    }\n",
       "</style>\n",
       "<table border=\"1\" class=\"dataframe\">\n",
       "  <thead>\n",
       "    <tr style=\"text-align: right;\">\n",
       "      <th></th>\n",
       "      <th>id_device</th>\n",
       "      <th>group</th>\n",
       "      <th>id_shop</th>\n",
       "      <th>cv_flg</th>\n",
       "    </tr>\n",
       "  </thead>\n",
       "  <tbody>\n",
       "    <tr>\n",
       "      <th>0</th>\n",
       "      <td>804390710708</td>\n",
       "      <td>1</td>\n",
       "      <td>231338930233</td>\n",
       "      <td>1</td>\n",
       "    </tr>\n",
       "    <tr>\n",
       "      <th>1</th>\n",
       "      <td>804390710708</td>\n",
       "      <td>1</td>\n",
       "      <td>127595638991</td>\n",
       "      <td>0</td>\n",
       "    </tr>\n",
       "    <tr>\n",
       "      <th>2</th>\n",
       "      <td>804390710708</td>\n",
       "      <td>1</td>\n",
       "      <td>921502954302</td>\n",
       "      <td>1</td>\n",
       "    </tr>\n",
       "    <tr>\n",
       "      <th>3</th>\n",
       "      <td>804390710708</td>\n",
       "      <td>1</td>\n",
       "      <td>437921507167</td>\n",
       "      <td>0</td>\n",
       "    </tr>\n",
       "    <tr>\n",
       "      <th>4</th>\n",
       "      <td>804390710708</td>\n",
       "      <td>1</td>\n",
       "      <td>722089071682</td>\n",
       "      <td>1</td>\n",
       "    </tr>\n",
       "  </tbody>\n",
       "</table>\n",
       "</div>"
      ],
      "text/plain": [
       "      id_device  group       id_shop  cv_flg\n",
       "0  804390710708      1  231338930233       1\n",
       "1  804390710708      1  127595638991       0\n",
       "2  804390710708      1  921502954302       1\n",
       "3  804390710708      1  437921507167       0\n",
       "4  804390710708      1  722089071682       1"
      ]
     },
     "execution_count": 22,
     "metadata": {},
     "output_type": "execute_result"
    }
   ],
   "source": [
    "df.head()"
   ]
  },
  {
   "cell_type": "code",
   "execution_count": 24,
   "id": "ee5ec61d-c7a2-4388-9e92-69a92a7b85ee",
   "metadata": {},
   "outputs": [
    {
     "name": "stdout",
     "output_type": "stream",
     "text": [
      "[2589 2762]\n",
      "[5000 5000]\n"
     ]
    }
   ],
   "source": [
    "# 標本データ\n",
    "count = df.groupby(\"group\").sum()[\"cv_flg\"].values  # 各群での成功数\n",
    "print(count)\n",
    "nobs = df.groupby(\"group\").count()[\"id_device\"].values  # 各群の観察数\n",
    "print(nobs)"
   ]
  },
  {
   "cell_type": "code",
   "execution_count": 27,
   "id": "359b63e7-4915-40f9-8893-65fc581112b0",
   "metadata": {},
   "outputs": [
    {
     "name": "stdout",
     "output_type": "stream",
     "text": [
      "0.0002616306098693404\n",
      "p値が5%を下回っています。\n",
      "つまり母比率はA群が上回っています。施策には効果があったと言えます。\n"
     ]
    }
   ],
   "source": [
    "# 母比率の差の検定を実行\n",
    "stat, pval = proportions_ztest(\n",
    "    count, nobs, alternative=\"smaller\"\n",
    ")  # NOTE:A群でgroup=1のため、p2 < p1が対立仮説\n",
    "print(pval)\n",
    "if pval < SIGNIFICANCE_LEVEL:\n",
    "    print(\"p値が5%を下回っています。\\nつまり母比率はA群が上回っています。施策には効果があったと言えます。\")"
   ]
  }
 ],
 "metadata": {
  "kernelspec": {
   "display_name": "statsmodels",
   "language": "python",
   "name": "statsmodels"
  },
  "language_info": {
   "codemirror_mode": {
    "name": "ipython",
    "version": 3
   },
   "file_extension": ".py",
   "mimetype": "text/x-python",
   "name": "python",
   "nbconvert_exporter": "python",
   "pygments_lexer": "ipython3",
   "version": "3.10.5"
  }
 },
 "nbformat": 4,
 "nbformat_minor": 5
}
